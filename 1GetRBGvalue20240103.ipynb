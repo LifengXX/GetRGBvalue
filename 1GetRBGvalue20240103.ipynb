{
 "cells": [
  {
   "cell_type": "code",
   "execution_count": null,
   "id": "f0ace2a8",
   "metadata": {},
   "outputs": [],
   "source": [
    "\n",
    "from PIL import Image\n",
    "\n",
    "file_handle=open('2DeadwoodRGB.txt',mode='w')\n",
    "with Image.open(r'C:\\Users\\lifeng\\OpenGeoSys\\1StudyXLF\\Aquistore\\2DeadwoodRBG.png') as img:\n",
    "    for x in range(img.size[0]):\n",
    "        for y in range(img.size[1]):\n",
    "            file_handle.writelines(\"({},{}): {}\\n\".format(x,y,img.getpixel((x,y))))"
   ]
  }
 ],
 "metadata": {
  "kernelspec": {
   "display_name": "Python 3 (ipykernel)",
   "language": "python",
   "name": "python3"
  },
  "language_info": {
   "codemirror_mode": {
    "name": "ipython",
    "version": 3
   },
   "file_extension": ".py",
   "mimetype": "text/x-python",
   "name": "python",
   "nbconvert_exporter": "python",
   "pygments_lexer": "ipython3",
   "version": "3.7.16"
  }
 },
 "nbformat": 4,
 "nbformat_minor": 5
}
